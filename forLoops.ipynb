{
  "nbformat": 4,
  "nbformat_minor": 0,
  "metadata": {
    "colab": {
      "name": "forLoops.ipynb",
      "provenance": [],
      "collapsed_sections": [],
      "include_colab_link": true
    },
    "kernelspec": {
      "name": "python3",
      "display_name": "Python 3"
    }
  },
  "cells": [
    {
      "cell_type": "markdown",
      "metadata": {
        "id": "view-in-github",
        "colab_type": "text"
      },
      "source": [
        "<a href=\"https://colab.research.google.com/github/JesperHenriksen/PythonCheatSheet/blob/master/forLoops.ipynb\" target=\"_parent\"><img src=\"https://colab.research.google.com/assets/colab-badge.svg\" alt=\"Open In Colab\"/></a>"
      ]
    },
    {
      "cell_type": "markdown",
      "metadata": {
        "id": "8ooSvvwfCXZR",
        "colab_type": "text"
      },
      "source": [
        "Loops"
      ]
    },
    {
      "cell_type": "code",
      "metadata": {
        "id": "xNvEzkqmCWcF",
        "colab_type": "code",
        "colab": {}
      },
      "source": [
        "for i in range(0,10):\n",
        "  print(i)"
      ],
      "execution_count": 0,
      "outputs": []
    },
    {
      "cell_type": "code",
      "metadata": {
        "id": "OLBrthnoCcpv",
        "colab_type": "code",
        "colab": {}
      },
      "source": [
        "lst = [1,22,13,64,85,6,47,8,49,0]\n",
        "for i in lst:\n",
        "  print(i)"
      ],
      "execution_count": 0,
      "outputs": []
    },
    {
      "cell_type": "code",
      "metadata": {
        "id": "fOp-N_NmCuaI",
        "colab_type": "code",
        "colab": {}
      },
      "source": [
        "lst = [1,22,13,64,85,6,47,8,49,0]\n",
        "for i, _ in enumerate(lst):\n",
        "  print(i)"
      ],
      "execution_count": 0,
      "outputs": []
    },
    {
      "cell_type": "code",
      "metadata": {
        "id": "4P4cmLbJCkEG",
        "colab_type": "code",
        "colab": {
          "base_uri": "https://localhost:8080/",
          "height": 185
        },
        "outputId": "5de3d73b-e131-4f93-d2bb-701f1416e7d4"
      },
      "source": [
        "lst = [1,22,13,64,85,6,47,8,49,0]\n",
        "for i, x in enumerate(lst):\n",
        "  print(i, x)"
      ],
      "execution_count": 1,
      "outputs": [
        {
          "output_type": "stream",
          "text": [
            "0 1\n",
            "1 22\n",
            "2 13\n",
            "3 64\n",
            "4 85\n",
            "5 6\n",
            "6 47\n",
            "7 8\n",
            "8 49\n",
            "9 0\n"
          ],
          "name": "stdout"
        }
      ]
    },
    {
      "cell_type": "code",
      "metadata": {
        "id": "noKY7mM2C45v",
        "colab_type": "code",
        "colab": {
          "base_uri": "https://localhost:8080/",
          "height": 353
        },
        "outputId": "7541ea36-5f7f-40fb-deb7-1af77c812394"
      },
      "source": [
        "lst = [\n",
        "       [1, 22, 13, 64,   85,   6, 47, 8, 49, 0],\n",
        "       [2,  3,  4, 12, 1213, 214, 56, 4, 10, 2]\n",
        "      ]\n",
        "for x, ls in enumerate(lst):\n",
        "  for y, _ in enumerate(ls):\n",
        "    print(x, y)"
      ],
      "execution_count": 7,
      "outputs": [
        {
          "output_type": "stream",
          "text": [
            "0 0\n",
            "0 1\n",
            "0 2\n",
            "0 3\n",
            "0 4\n",
            "0 5\n",
            "0 6\n",
            "0 7\n",
            "0 8\n",
            "0 9\n",
            "1 0\n",
            "1 1\n",
            "1 2\n",
            "1 3\n",
            "1 4\n",
            "1 5\n",
            "1 6\n",
            "1 7\n",
            "1 8\n",
            "1 9\n"
          ],
          "name": "stdout"
        }
      ]
    },
    {
      "cell_type": "code",
      "metadata": {
        "id": "WvlG7uMZD079",
        "colab_type": "code",
        "colab": {
          "base_uri": "https://localhost:8080/",
          "height": 353
        },
        "outputId": "3afc0229-a690-466f-d5f1-3b73c6b1dc03"
      },
      "source": [
        "lst = [\n",
        "       [1, 22, 13, 64,   85,   6, 47, 8, 49, 0],\n",
        "       [2,  3,  4, 12, 1213, 214, 56, 4, 10, 2]\n",
        "      ]\n",
        "for x, ls in enumerate(lst):\n",
        "  for y, _ in enumerate(ls):\n",
        "    print(lst[x][y])"
      ],
      "execution_count": 12,
      "outputs": [
        {
          "output_type": "stream",
          "text": [
            "1\n",
            "22\n",
            "13\n",
            "64\n",
            "85\n",
            "6\n",
            "47\n",
            "8\n",
            "49\n",
            "0\n",
            "2\n",
            "3\n",
            "4\n",
            "12\n",
            "1213\n",
            "214\n",
            "56\n",
            "4\n",
            "10\n",
            "2\n"
          ],
          "name": "stdout"
        }
      ]
    },
    {
      "cell_type": "code",
      "metadata": {
        "id": "L8bvNM-AEKp9",
        "colab_type": "code",
        "colab": {
          "base_uri": "https://localhost:8080/",
          "height": 353
        },
        "outputId": "40f4f4c6-f69b-4fcc-aa5f-3b8c7079e9b7"
      },
      "source": [
        "lst = [\n",
        "       [1, 22, 13, 64,   85,   6, 47, 8, 49, 0],\n",
        "       [2,  3,  4, 12, 1213, 214, 56, 4, 10, 2]\n",
        "      ]\n",
        "for x, ls in enumerate(lst):\n",
        "  for y, value in enumerate(ls):\n",
        "    print(x, y, value)"
      ],
      "execution_count": 15,
      "outputs": [
        {
          "output_type": "stream",
          "text": [
            "0 0 1\n",
            "0 1 22\n",
            "0 2 13\n",
            "0 3 64\n",
            "0 4 85\n",
            "0 5 6\n",
            "0 6 47\n",
            "0 7 8\n",
            "0 8 49\n",
            "0 9 0\n",
            "1 0 2\n",
            "1 1 3\n",
            "1 2 4\n",
            "1 3 12\n",
            "1 4 1213\n",
            "1 5 214\n",
            "1 6 56\n",
            "1 7 4\n",
            "1 8 10\n",
            "1 9 2\n"
          ],
          "name": "stdout"
        }
      ]
    }
  ]
}