{
  "nbformat": 4,
  "nbformat_minor": 0,
  "metadata": {
    "colab": {
      "name": "forLoops.ipynb",
      "provenance": [],
      "collapsed_sections": [],
      "include_colab_link": true
    },
    "kernelspec": {
      "name": "python3",
      "display_name": "Python 3"
    }
  },
  "cells": [
    {
      "cell_type": "markdown",
      "metadata": {
        "id": "view-in-github",
        "colab_type": "text"
      },
      "source": [
        "<a href=\"https://colab.research.google.com/github/JesperHenriksen/PythonCheatSheet/blob/master/forLoops.ipynb\" target=\"_parent\"><img src=\"https://colab.research.google.com/assets/colab-badge.svg\" alt=\"Open In Colab\"/></a>"
      ]
    },
    {
      "cell_type": "markdown",
      "metadata": {
        "id": "8ooSvvwfCXZR",
        "colab_type": "text"
      },
      "source": [
        "Loops"
      ]
    },
    {
      "cell_type": "code",
      "metadata": {
        "id": "xNvEzkqmCWcF",
        "colab_type": "code",
        "colab": {}
      },
      "source": [
        "for i in range(0,10):\n",
        "  print(i)"
      ],
      "execution_count": 0,
      "outputs": []
    },
    {
      "cell_type": "code",
      "metadata": {
        "id": "OLBrthnoCcpv",
        "colab_type": "code",
        "colab": {}
      },
      "source": [
        "lst = [1,22,13,64,85,6,47,8,49,0]\n",
        "for i in lst:\n",
        "  print(i)"
      ],
      "execution_count": 0,
      "outputs": []
    },
    {
      "cell_type": "code",
      "metadata": {
        "id": "fOp-N_NmCuaI",
        "colab_type": "code",
        "colab": {}
      },
      "source": [
        "lst = [1,22,13,64,85,6,47,8,49,0]\n",
        "for i, _ in enumerate(lst):\n",
        "  print(i)"
      ],
      "execution_count": 0,
      "outputs": []
    },
    {
      "cell_type": "code",
      "metadata": {
        "id": "4P4cmLbJCkEG",
        "colab_type": "code",
        "colab": {}
      },
      "source": [
        "lst = [1,22,13,64,85,6,47,8,49,0]\n",
        "for i, x in enumerate(lst):\n",
        "  print(i, x)"
      ],
      "execution_count": 0,
      "outputs": []
    },
    {
      "cell_type": "code",
      "metadata": {
        "id": "noKY7mM2C45v",
        "colab_type": "code",
        "colab": {}
      },
      "source": [
        "lst = [\n",
        "       [1, 22, 13, 64,   85,   6, 47, 8, 49, 0],\n",
        "       [2,  3,  4, 12, 1213, 214, 56, 4, 10, 2]\n",
        "      ]\n",
        "for x, ls in enumerate(lst):\n",
        "  for y, _ in enumerate(ls):\n",
        "    print(x, y)"
      ],
      "execution_count": 0,
      "outputs": []
    },
    {
      "cell_type": "code",
      "metadata": {
        "id": "WvlG7uMZD079",
        "colab_type": "code",
        "colab": {}
      },
      "source": [
        "lst = [\n",
        "       [1, 22, 13, 64,   85,   6, 47, 8, 49, 0],\n",
        "       [2,  3,  4, 12, 1213, 214, 56, 4, 10, 2]\n",
        "      ]\n",
        "for x, ls in enumerate(lst):\n",
        "  for y, _ in enumerate(ls):\n",
        "    print(lst[x][y])"
      ],
      "execution_count": 0,
      "outputs": []
    },
    {
      "cell_type": "code",
      "metadata": {
        "id": "L8bvNM-AEKp9",
        "colab_type": "code",
        "colab": {}
      },
      "source": [
        "lst = [\n",
        "       [1, 22, 13, 64,   85,   6, 47, 8, 49, 0],\n",
        "       [2,  3,  4, 12, 1213, 214, 56, 4, 10, 2]\n",
        "      ]\n",
        "for x, ls in enumerate(lst):\n",
        "  for y, value in enumerate(ls):\n",
        "    print(x, y, value)"
      ],
      "execution_count": 0,
      "outputs": []
    }
  ]
}