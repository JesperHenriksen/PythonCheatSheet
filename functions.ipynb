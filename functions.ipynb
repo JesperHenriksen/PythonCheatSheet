{
  "nbformat": 4,
  "nbformat_minor": 0,
  "metadata": {
    "colab": {
      "name": "functions.ipynb",
      "provenance": [],
      "collapsed_sections": [],
      "include_colab_link": true
    },
    "kernelspec": {
      "name": "python3",
      "display_name": "Python 3"
    }
  },
  "cells": [
    {
      "cell_type": "markdown",
      "metadata": {
        "id": "view-in-github",
        "colab_type": "text"
      },
      "source": [
        "<a href=\"https://colab.research.google.com/github/JesperHenriksen/PythonCheatSheet/blob/master/functions.ipynb\" target=\"_parent\"><img src=\"https://colab.research.google.com/assets/colab-badge.svg\" alt=\"Open In Colab\"/></a>"
      ]
    },
    {
      "cell_type": "markdown",
      "metadata": {
        "id": "WrZDJYrsAcjj",
        "colab_type": "text"
      },
      "source": [
        "Functions\n"
      ]
    },
    {
      "cell_type": "code",
      "metadata": {
        "id": "PLY_9PcGAbc9",
        "colab_type": "code",
        "colab": {}
      },
      "source": [
        "def func(params):\n",
        "  print(params)"
      ],
      "execution_count": 0,
      "outputs": []
    },
    {
      "cell_type": "code",
      "metadata": {
        "id": "7EF2O_bzAvhg",
        "colab_type": "code",
        "colab": {
          "base_uri": "https://localhost:8080/",
          "height": 50
        },
        "outputId": "32c55253-60ab-4412-eac0-37133c3750f5"
      },
      "source": [
        "func(1)\n",
        "func(\"hallo\")"
      ],
      "execution_count": 4,
      "outputs": [
        {
          "output_type": "stream",
          "text": [
            "1\n",
            "hallo\n"
          ],
          "name": "stdout"
        }
      ]
    },
    {
      "cell_type": "code",
      "metadata": {
        "id": "OQ0VL07hAmZJ",
        "colab_type": "code",
        "colab": {}
      },
      "source": [
        "def func(params=\"p\"):\n",
        "  print(params)"
      ],
      "execution_count": 0,
      "outputs": []
    },
    {
      "cell_type": "code",
      "metadata": {
        "id": "_jRZpue1At7X",
        "colab_type": "code",
        "colab": {
          "base_uri": "https://localhost:8080/",
          "height": 34
        },
        "outputId": "d724e0da-f1ab-4ad7-f608-b23ac79f62ea"
      },
      "source": [
        "func(params=1)"
      ],
      "execution_count": 8,
      "outputs": [
        {
          "output_type": "stream",
          "text": [
            "1\n"
          ],
          "name": "stdout"
        }
      ]
    },
    {
      "cell_type": "code",
      "metadata": {
        "id": "X5Ct-N9wA_TY",
        "colab_type": "code",
        "colab": {
          "base_uri": "https://localhost:8080/",
          "height": 67
        },
        "outputId": "6428260d-ea0b-421b-faa1-1441a0c67921"
      },
      "source": [
        "def funcMulti(a,b,c=2,params=\"p\"):\n",
        "  print(a,b,c,params)\n",
        "funcMulti(1,2)\n",
        "funcMulti(1,3,params=\"b\")\n",
        "funcMulti(1,3,c=\"b\")"
      ],
      "execution_count": 12,
      "outputs": [
        {
          "output_type": "stream",
          "text": [
            "1 2 2 p\n",
            "1 3 2 b\n",
            "1 3 b p\n"
          ],
          "name": "stdout"
        }
      ]
    },
    {
      "cell_type": "code",
      "metadata": {
        "id": "LP4-4jesBRzH",
        "colab_type": "code",
        "colab": {}
      },
      "source": [
        ""
      ],
      "execution_count": 0,
      "outputs": []
    }
  ]
}