{
  "nbformat": 4,
  "nbformat_minor": 0,
  "metadata": {
    "colab": {
      "name": "PythonCheatSheet.ipynb",
      "provenance": [],
      "collapsed_sections": [],
      "toc_visible": true,
      "include_colab_link": true
    },
    "kernelspec": {
      "name": "python3",
      "display_name": "Python 3"
    }
  },
  "cells": [
    {
      "cell_type": "markdown",
      "metadata": {
        "id": "view-in-github",
        "colab_type": "text"
      },
      "source": [
        "<a href=\"https://colab.research.google.com/github/JesperHenriksen/PythonCheatSheet/blob/master/PythonCheatSheet.ipynb\" target=\"_parent\"><img src=\"https://colab.research.google.com/assets/colab-badge.svg\" alt=\"Open In Colab\"/></a>"
      ]
    },
    {
      "cell_type": "markdown",
      "metadata": {
        "id": "BICBODkfRDAO",
        "colab_type": "text"
      },
      "source": [
        "Made by Jesper Wædeled Henriksen \\\\\n",
        "Any feedback or questions can be send to: jwhe@create.aau.dk"
      ]
    },
    {
      "cell_type": "markdown",
      "metadata": {
        "id": "9Xt0epGbPdru",
        "colab_type": "text"
      },
      "source": [
        "# General Python Things"
      ]
    },
    {
      "cell_type": "code",
      "metadata": {
        "id": "AW5AMAi4PmIl",
        "colab_type": "code",
        "colab": {}
      },
      "source": [
        "#Python Comment"
      ],
      "execution_count": 0,
      "outputs": []
    },
    {
      "cell_type": "code",
      "metadata": {
        "id": "f35b4350PnfN",
        "colab_type": "code",
        "colab": {}
      },
      "source": [
        "\"\"\"\n",
        "Python \n",
        "Multi \n",
        "line \n",
        "comment\n",
        "\"\"\""
      ],
      "execution_count": 0,
      "outputs": []
    },
    {
      "cell_type": "code",
      "metadata": {
        "id": "Ls5S5wocPrjq",
        "colab_type": "code",
        "colab": {}
      },
      "source": [
        "#Python comment trick\n",
        "#Put a # infront of the first \"\"\" to switch between the two lines of code\n",
        "\n",
        "\"\"\"\n",
        "print(\"Some code i want to execute sometimes\")\n",
        "\"\"\"\n",
        "print(\"Some other code i want other times.\")\n",
        "#\"\"\""
      ],
      "execution_count": 0,
      "outputs": []
    },
    {
      "cell_type": "code",
      "metadata": {
        "id": "CCDm6Bj7Pv8i",
        "colab_type": "code",
        "colab": {}
      },
      "source": [
        "\"\"\"\n",
        "Making sure variable has/hasn't a specific value is quite easy in python\n",
        "Let's assume we have a function to divide 2 numbers.\n",
        "Then we know that division must follow this rule: x/y=c , y != 0 \n",
        "How can we implement this in Python? Using assert\n",
        "The first statement in assert must be true\n",
        "\"\"\"\n",
        "\n",
        "def division(x,y):\n",
        "  assert not y == 0, \"y must not be 0\"\n",
        "  assert not y is None, \"y must not be None\"\n",
        "  return x/y\n",
        "\n",
        "print(division(1,1))\n",
        "print(division(1,0))"
      ],
      "execution_count": 0,
      "outputs": []
    },
    {
      "cell_type": "code",
      "metadata": {
        "id": "w4XKap0PvM-f",
        "colab_type": "code",
        "colab": {}
      },
      "source": [
        "#It is a good idea when working with python to have if __name__ == '__main__': \n",
        "#as the first sentence. It will fix some import problems before they begin\n",
        "#Your code could look something like this\n",
        "\n",
        "def my_function():\n",
        "  print(\"is doing awesome work\")\n",
        "\n",
        "def my_other_function():\n",
        "  print(\"also doing awesome work\")\n",
        "  \n",
        "  \n",
        "if __name__ == '__main__':\n",
        "  code = \"do something\" \n",
        "  my_function()\n",
        "  my_other_function()\n"
      ],
      "execution_count": 0,
      "outputs": []
    },
    {
      "cell_type": "markdown",
      "metadata": {
        "id": "73tduSq4coAD",
        "colab_type": "text"
      },
      "source": [
        "## Useful imports\n",
        "\n",
        "\n",
        "\n",
        "\n"
      ]
    },
    {
      "cell_type": "code",
      "metadata": {
        "id": "Nms8hIvWSdLu",
        "colab_type": "code",
        "colab": {}
      },
      "source": [
        "from tqdm import tqdm \n",
        "import numpy as np \n",
        "from PIL import Image \n",
        "import cv2 \n",
        "import random \n",
        "import matplotlib as plt \n",
        "\n",
        "from pathlib import Path \n",
        "import os \n",
        "import shutil \n"
      ],
      "execution_count": 0,
      "outputs": []
    },
    {
      "cell_type": "markdown",
      "metadata": {
        "id": "gz56IwsIPP77",
        "colab_type": "text"
      },
      "source": [
        "# Lists"
      ]
    },
    {
      "cell_type": "code",
      "metadata": {
        "id": "HYxszSAIZSbl",
        "colab_type": "code",
        "colab": {}
      },
      "source": [
        "lst = []\n",
        "print(list)"
      ],
      "execution_count": 0,
      "outputs": []
    },
    {
      "cell_type": "code",
      "metadata": {
        "id": "KVw3V3LCZU4V",
        "colab_type": "code",
        "colab": {}
      },
      "source": [
        "lst = [0,1,2,3,4,5,6,7,8,9,10]\n",
        "print(lst)"
      ],
      "execution_count": 0,
      "outputs": []
    },
    {
      "cell_type": "code",
      "metadata": {
        "id": "Qp7g0YCFZod-",
        "colab_type": "code",
        "colab": {}
      },
      "source": [
        "lst = [0,1,2,3,4,5,6,7,8,9,10]\n",
        "print(lst[1])"
      ],
      "execution_count": 0,
      "outputs": []
    },
    {
      "cell_type": "code",
      "metadata": {
        "id": "qB0UCUXuhovt",
        "colab_type": "code",
        "colab": {}
      },
      "source": [
        "lst = [0,1,2,3,4,5,6,7,8,9,10]\n",
        "print(lst[1:])"
      ],
      "execution_count": 0,
      "outputs": []
    },
    {
      "cell_type": "code",
      "metadata": {
        "id": "4WuVrNSVhrOJ",
        "colab_type": "code",
        "colab": {}
      },
      "source": [
        "lst = [0,1,2,3,4,5,6,7,8,9,10]\n",
        "print(lst[:1])"
      ],
      "execution_count": 0,
      "outputs": []
    },
    {
      "cell_type": "code",
      "metadata": {
        "id": "EG9B5SKkhvyw",
        "colab_type": "code",
        "colab": {}
      },
      "source": [
        "lst = [0,1,2,3,4,5,6,7,8,9,10]\n",
        "print(lst[1:5])"
      ],
      "execution_count": 0,
      "outputs": []
    },
    {
      "cell_type": "code",
      "metadata": {
        "id": "dsYIZvU7hyH4",
        "colab_type": "code",
        "colab": {}
      },
      "source": [
        "lst = [0,1,2,3,4,5,6,7,8,9,10]\n",
        "print(lst[:-2])"
      ],
      "execution_count": 0,
      "outputs": []
    },
    {
      "cell_type": "code",
      "metadata": {
        "id": "S1ulHoZ1ZxT9",
        "colab_type": "code",
        "colab": {}
      },
      "source": [
        "lst = [0,1,2,3,4,5,6,7,8,9,10]\n",
        "import random\n",
        "for i in random.sample(lst, 4):\n",
        "    print(i)"
      ],
      "execution_count": 0,
      "outputs": []
    },
    {
      "cell_type": "markdown",
      "metadata": {
        "id": "veTsrlf5P4FH",
        "colab_type": "text"
      },
      "source": [
        "# Loops"
      ]
    },
    {
      "cell_type": "code",
      "metadata": {
        "id": "4dw-hMp-P-j-",
        "colab_type": "code",
        "colab": {}
      },
      "source": [
        "for i in range(0,10):\n",
        "  print(i)"
      ],
      "execution_count": 0,
      "outputs": []
    },
    {
      "cell_type": "code",
      "metadata": {
        "id": "XsZ_62ySQAoA",
        "colab_type": "code",
        "colab": {}
      },
      "source": [
        "lst = [1,22,13,64,85,6,47,8,49,0]\n",
        "for i in lst:\n",
        "  print(i)"
      ],
      "execution_count": 0,
      "outputs": []
    },
    {
      "cell_type": "code",
      "metadata": {
        "id": "S0tks8qAQB2W",
        "colab_type": "code",
        "colab": {}
      },
      "source": [
        "lst = [1,22,13,64,85,6,47,8,49,0]\n",
        "for i, _ in enumerate(lst):\n",
        "  print(i)"
      ],
      "execution_count": 0,
      "outputs": []
    },
    {
      "cell_type": "code",
      "metadata": {
        "id": "JwGyq1AXQDkw",
        "colab_type": "code",
        "colab": {}
      },
      "source": [
        "lst = [1,22,13,64,85,6,47,8,49,0]\n",
        "for i, x in enumerate(lst):\n",
        "  print(i, x)"
      ],
      "execution_count": 0,
      "outputs": []
    },
    {
      "cell_type": "code",
      "metadata": {
        "id": "ozWdHgzNQEnE",
        "colab_type": "code",
        "colab": {}
      },
      "source": [
        "lst = [\n",
        "       [1, 22, 13, 64,   85,   6, 47, 8, 49, 0],\n",
        "       [2,  3,  4, 12, 1213, 214, 56, 4, 10, 2]\n",
        "      ]\n",
        "for x, ls in enumerate(lst):\n",
        "  for y, _ in enumerate(ls):\n",
        "    print(x, y)"
      ],
      "execution_count": 0,
      "outputs": []
    },
    {
      "cell_type": "code",
      "metadata": {
        "id": "Zdj23jN8QFkR",
        "colab_type": "code",
        "colab": {}
      },
      "source": [
        "lst = [\n",
        "       [1, 22, 13, 64,   85,   6, 47, 8, 49, 0],\n",
        "       [2,  3,  4, 12, 1213, 214, 56, 4, 10, 2]\n",
        "      ]\n",
        "for x, ls in enumerate(lst):\n",
        "  for y, _ in enumerate(ls):\n",
        "    print(lst[x][y])"
      ],
      "execution_count": 0,
      "outputs": []
    },
    {
      "cell_type": "code",
      "metadata": {
        "id": "YpmBMiJmQGdu",
        "colab_type": "code",
        "colab": {}
      },
      "source": [
        "lst = [\n",
        "       [1, 22, 13, 64,   85,   6, 47, 8, 49, 0],\n",
        "       [2,  3,  4, 12, 1213, 214, 56, 4, 10, 2]\n",
        "      ]\n",
        "for x, ls in enumerate(lst):\n",
        "  for y, value in enumerate(ls):\n",
        "    print(x, y, value)"
      ],
      "execution_count": 0,
      "outputs": []
    },
    {
      "cell_type": "markdown",
      "metadata": {
        "id": "WrZDJYrsAcjj",
        "colab_type": "text"
      },
      "source": [
        "# Functions\n"
      ]
    },
    {
      "cell_type": "code",
      "metadata": {
        "id": "w_9_jWviQJh-",
        "colab_type": "code",
        "colab": {}
      },
      "source": [
        "def funcSingleParam(params):\n",
        "  print(params)\n",
        "  \n",
        "funcSingleParam(1)\n",
        "funcSingleParam(\"hallo\")"
      ],
      "execution_count": 0,
      "outputs": []
    },
    {
      "cell_type": "code",
      "metadata": {
        "id": "nbwh2riLQKoG",
        "colab_type": "code",
        "colab": {}
      },
      "source": [
        "def funcSingleParamDefined(params=\"p\"):\n",
        "  print(params)\n",
        "\n",
        "funcSingleParamDefined()\n",
        "funcSingleParamDefined(params=1)"
      ],
      "execution_count": 0,
      "outputs": []
    },
    {
      "cell_type": "code",
      "metadata": {
        "id": "cRldPGJzQXTo",
        "colab_type": "code",
        "colab": {}
      },
      "source": [
        "def funcMultiParams(a,b,c=2,params=\"p\"):\n",
        "  print(a,b,c,params)\n",
        "  \n",
        "funcMultiParams(1,2)\n",
        "funcMultiParams(1,3,params=\"b\")\n",
        "funcMultiParams(1,3,c=\"b\")"
      ],
      "execution_count": 0,
      "outputs": []
    },
    {
      "cell_type": "code",
      "metadata": {
        "id": "yolUhq0neqbe",
        "colab_type": "code",
        "colab": {}
      },
      "source": [
        "#So what if we have a function that returns multiple variables \n",
        "#but we only need 1 of them?\n",
        "#We can use _ to tell python we know that there will be returned \n",
        "#some value but we dont want to store it in memory\n",
        "\n",
        "def funcMultiParams(a,b,c=2,params=\"p\"):\n",
        "  print(\"function input\",a,b,c,params)\n",
        "  return a,b,c,params\n",
        "\n",
        "_ , b , c , _ = funcMultiParams(1,2,5)\n",
        "print(b, c)"
      ],
      "execution_count": 0,
      "outputs": []
    },
    {
      "cell_type": "code",
      "metadata": {
        "id": "rGfzJWMtnpwd",
        "colab_type": "code",
        "colab": {}
      },
      "source": [
        "#You can also tell the compiler what type of parameters you have\n",
        "#Then you can access the properties of that class within your IDE\n",
        "def test(st:str):\n",
        "  print(st)\n",
        "  return\n",
        "\n",
        "test(1)\n",
        "\n",
        "class human:\n",
        "    def __init__(self):\n",
        "        self.name\n",
        "    def raise_hat(self):\n",
        "        print(self.name, \"raises hat\") \n",
        "        \n",
        "def test2(bob:human):\n",
        "  bob.raise_hat\n",
        "  \n",
        "#This makes more sense if you try it in PyCharm or whatever you are using"
      ],
      "execution_count": 0,
      "outputs": []
    },
    {
      "cell_type": "markdown",
      "metadata": {
        "id": "T5gXiyP0Qq86",
        "colab_type": "text"
      },
      "source": [
        "# Conditions"
      ]
    },
    {
      "cell_type": "code",
      "metadata": {
        "id": "UHdNglfXQvWF",
        "colab_type": "code",
        "colab": {}
      },
      "source": [
        "t = True\n",
        "if t is True:\n",
        "  print(\"do the stuff\")"
      ],
      "execution_count": 0,
      "outputs": []
    },
    {
      "cell_type": "code",
      "metadata": {
        "id": "0VkFfam4Q3z9",
        "colab_type": "code",
        "colab": {}
      },
      "source": [
        "t = True\n",
        "if t:\n",
        "  print(\"do the stuff\")"
      ],
      "execution_count": 0,
      "outputs": []
    },
    {
      "cell_type": "code",
      "metadata": {
        "id": "LflEUniQQ80V",
        "colab_type": "code",
        "colab": {}
      },
      "source": [
        "t = True\n",
        "a = 1\n",
        "if t and a:\n",
        "  print(\"do the stuff\")"
      ],
      "execution_count": 0,
      "outputs": []
    },
    {
      "cell_type": "code",
      "metadata": {
        "id": "tNVJufxpRUGX",
        "colab_type": "code",
        "colab": {}
      },
      "source": [
        "t = True\n",
        "a = \"hallo\"\n",
        "if t and a:\n",
        "  print(\"do the stuff\")"
      ],
      "execution_count": 0,
      "outputs": []
    },
    {
      "cell_type": "code",
      "metadata": {
        "id": "qUE-9NPERDiu",
        "colab_type": "code",
        "colab": {}
      },
      "source": [
        "t = True\n",
        "a = 0\n",
        "if t and a:\n",
        "  print(\"do the stuff\")\n",
        "else:\n",
        "  print(\"do not the stuff\")"
      ],
      "execution_count": 0,
      "outputs": []
    },
    {
      "cell_type": "code",
      "metadata": {
        "id": "GfPlcv8NRXC9",
        "colab_type": "code",
        "colab": {}
      },
      "source": [
        "txt = \"Hey\"\n",
        "if txt is \"Hey\":\n",
        "  print(\"do the stuff\")\n",
        "else:\n",
        "    print(\"do not the stuff\")"
      ],
      "execution_count": 0,
      "outputs": []
    },
    {
      "cell_type": "code",
      "metadata": {
        "id": "yjVm-AuERgIm",
        "colab_type": "code",
        "colab": {}
      },
      "source": [
        "txt = \"Hey\"\n",
        "if txt == \"Hey\":\n",
        "  print(\"do the stuff\")\n",
        "else:\n",
        "    print(\"do not the stuff\")"
      ],
      "execution_count": 0,
      "outputs": []
    },
    {
      "cell_type": "markdown",
      "metadata": {
        "id": "bYd4sTi7yEb5",
        "colab_type": "text"
      },
      "source": [
        "# Classes"
      ]
    },
    {
      "cell_type": "code",
      "metadata": {
        "id": "FKCyD-BIRfi_",
        "colab_type": "code",
        "colab": {}
      },
      "source": [
        "\"\"\"\n",
        "Here is sudo code for classes\n",
        "class name(Inherit class):\n",
        "  def __init__(param1, param2): <-- Constructor\n",
        "    self.x = param1  <-- Self refers to this instance of a class. Other languages uses this.\n",
        "    self.y = param2\n",
        "  \n",
        "  def shout():\n",
        "    print(self.x, self.y)\n",
        "\"\"\""
      ],
      "execution_count": 0,
      "outputs": []
    },
    {
      "cell_type": "code",
      "metadata": {
        "id": "Li5xn5MCRkfb",
        "colab_type": "code",
        "colab": {}
      },
      "source": [
        "\"\"\"\n",
        "How to define classes in python\n",
        "\"\"\"\n",
        "class animal:\n",
        "  def __init__(self, name, age, height, weight, roar):\n",
        "    self.name = name\n",
        "    self.age = age\n",
        "    self.height = height\n",
        "    self.weight = weight\n",
        "    self.roar = roar\n",
        "  \n",
        "  def sound(self):\n",
        "    print(self.roar)\n",
        "    \n",
        "monkey = animal(\"Charlie\", 16, 140, 80, \"Uh uh\")\n",
        "monkey.sound()"
      ],
      "execution_count": 0,
      "outputs": []
    },
    {
      "cell_type": "code",
      "metadata": {
        "id": "9iIK0-1SRnxD",
        "colab_type": "code",
        "colab": {}
      },
      "source": [
        "\"\"\"\n",
        "Classes and inheritage\n",
        "\"\"\"\n",
        "class animal(object):\n",
        "  def __init__(self, h, w): \n",
        "    self.weight = w  \n",
        "    self.height = h\n",
        "  \n",
        "  def prnt(self):\n",
        "    print(\"Height:\",self.height, \"Weight:\", self.weight, end=\" \")\n",
        "\n",
        "    \n",
        "class human(animal):\n",
        "  name = \"\"\n",
        "  def __init__(self, height, weight, name): \n",
        "    super().__init__(height, weight)\n",
        "    self.name = name\n",
        "    \n",
        "  def prnt(self):\n",
        "    print(\"Human\",\"Name:\", self.name, end = \" \")\n",
        "    super().prnt()\n",
        "    print()\n",
        "\n",
        "\n",
        "class dog(animal):\n",
        "  name = \"\"\n",
        "  def __init__(self, height, weight, name): \n",
        "    animal.__init__(self,height, weight)\n",
        "    self.name = name\n",
        "    \n",
        "  def prnt(self):\n",
        "    print(\"Dog\",\"Name:\", self.name, end = \" \")\n",
        "    animal.prnt(self)\n",
        "    print()\n",
        "  \n",
        "bob = human(170, 80, \"Bob\")\n",
        "bob.prnt()\n",
        "herbert = dog(100, 120, \"Herbert\")\n",
        "herbert.prnt()"
      ],
      "execution_count": 0,
      "outputs": []
    }
  ]
}