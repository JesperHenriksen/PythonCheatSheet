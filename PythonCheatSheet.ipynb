{
  "nbformat": 4,
  "nbformat_minor": 0,
  "metadata": {
    "colab": {
      "name": "PythonCheatSheet.ipynb",
      "provenance": [],
      "collapsed_sections": [],
      "toc_visible": true,
      "include_colab_link": true
    },
    "kernelspec": {
      "name": "python3",
      "display_name": "Python 3"
    }
  },
  "cells": [
    {
      "cell_type": "markdown",
      "metadata": {
        "id": "view-in-github",
        "colab_type": "text"
      },
      "source": [
        "<a href=\"https://colab.research.google.com/github/JesperHenriksen/PythonCheatSheet/blob/master/PythonCheatSheet.ipynb\" target=\"_parent\"><img src=\"https://colab.research.google.com/assets/colab-badge.svg\" alt=\"Open In Colab\"/></a>"
      ]
    },
    {
      "cell_type": "markdown",
      "metadata": {
        "id": "9Xt0epGbPdru",
        "colab_type": "text"
      },
      "source": [
        "# General Python Things"
      ]
    },
    {
      "cell_type": "code",
      "metadata": {
        "id": "AW5AMAi4PmIl",
        "colab_type": "code",
        "colab": {}
      },
      "source": [
        "#Python Comment"
      ],
      "execution_count": 0,
      "outputs": []
    },
    {
      "cell_type": "code",
      "metadata": {
        "id": "f35b4350PnfN",
        "colab_type": "code",
        "colab": {}
      },
      "source": [
        "\"\"\"\n",
        "Python \n",
        "Multi \n",
        "line \n",
        "comment\n",
        "\"\"\""
      ],
      "execution_count": 0,
      "outputs": []
    },
    {
      "cell_type": "code",
      "metadata": {
        "id": "Ls5S5wocPrjq",
        "colab_type": "code",
        "colab": {}
      },
      "source": [
        "#Python comment trick\n",
        "#Put a # infront of the first \"\"\" to switch between the two lines of code\n",
        "\n",
        "\"\"\"\n",
        "print(\"Some code i want to execute sometimes\")\n",
        "\"\"\"\n",
        "print(\"Some other code i want an other times.\")\n",
        "#\"\"\""
      ],
      "execution_count": 0,
      "outputs": []
    },
    {
      "cell_type": "code",
      "metadata": {
        "id": "CCDm6Bj7Pv8i",
        "colab_type": "code",
        "outputId": "9122a939-b21c-40a8-9d98-18e6441d2a87",
        "colab": {
          "base_uri": "https://localhost:8080/",
          "height": 330
        }
      },
      "source": [
        "\"\"\"\n",
        "Making sure variable has/hasn't a specific value is quite easy in python\n",
        "Let's assume we have a function to divide 2 numbers.\n",
        "Then we know that division must follow this rule: x/y=c , y != 0 \n",
        "How can we implement this in Python? Using assert\n",
        "The first statement in assert must be true\n",
        "\"\"\"\n",
        "\n",
        "def division(x,y):\n",
        "  assert not y == 0, \"y must not be 0\"\n",
        "  assert not y is None, \"y must not be None\"\n",
        "  return x/y\n",
        "\n",
        "print(division(1,1))\n",
        "print(division(1,0))"
      ],
      "execution_count": 0,
      "outputs": [
        {
          "output_type": "stream",
          "text": [
            "1.0\n"
          ],
          "name": "stdout"
        },
        {
          "output_type": "error",
          "ename": "AssertionError",
          "evalue": "ignored",
          "traceback": [
            "\u001b[0;31m---------------------------------------------------------------------------\u001b[0m",
            "\u001b[0;31mAssertionError\u001b[0m                            Traceback (most recent call last)",
            "\u001b[0;32m<ipython-input-6-e14725cd320d>\u001b[0m in \u001b[0;36m<module>\u001b[0;34m()\u001b[0m\n\u001b[1;32m     12\u001b[0m \u001b[0;34m\u001b[0m\u001b[0m\n\u001b[1;32m     13\u001b[0m \u001b[0mprint\u001b[0m\u001b[0;34m(\u001b[0m\u001b[0mdivision\u001b[0m\u001b[0;34m(\u001b[0m\u001b[0;36m1\u001b[0m\u001b[0;34m,\u001b[0m\u001b[0;36m1\u001b[0m\u001b[0;34m)\u001b[0m\u001b[0;34m)\u001b[0m\u001b[0;34m\u001b[0m\u001b[0;34m\u001b[0m\u001b[0m\n\u001b[0;32m---> 14\u001b[0;31m \u001b[0mprint\u001b[0m\u001b[0;34m(\u001b[0m\u001b[0mdivision\u001b[0m\u001b[0;34m(\u001b[0m\u001b[0;36m1\u001b[0m\u001b[0;34m,\u001b[0m\u001b[0;36m0\u001b[0m\u001b[0;34m)\u001b[0m\u001b[0;34m)\u001b[0m\u001b[0;34m\u001b[0m\u001b[0;34m\u001b[0m\u001b[0m\n\u001b[0m",
            "\u001b[0;32m<ipython-input-6-e14725cd320d>\u001b[0m in \u001b[0;36mdivision\u001b[0;34m(x, y)\u001b[0m\n\u001b[1;32m      8\u001b[0m \u001b[0;34m\u001b[0m\u001b[0m\n\u001b[1;32m      9\u001b[0m \u001b[0;32mdef\u001b[0m \u001b[0mdivision\u001b[0m\u001b[0;34m(\u001b[0m\u001b[0mx\u001b[0m\u001b[0;34m,\u001b[0m\u001b[0my\u001b[0m\u001b[0;34m)\u001b[0m\u001b[0;34m:\u001b[0m\u001b[0;34m\u001b[0m\u001b[0;34m\u001b[0m\u001b[0m\n\u001b[0;32m---> 10\u001b[0;31m   \u001b[0;32massert\u001b[0m \u001b[0;32mnot\u001b[0m \u001b[0my\u001b[0m \u001b[0;34m==\u001b[0m \u001b[0;36m0\u001b[0m\u001b[0;34m,\u001b[0m \u001b[0;34m\"y must not be 0\"\u001b[0m\u001b[0;34m\u001b[0m\u001b[0;34m\u001b[0m\u001b[0m\n\u001b[0m\u001b[1;32m     11\u001b[0m   \u001b[0;32mreturn\u001b[0m \u001b[0mx\u001b[0m\u001b[0;34m/\u001b[0m\u001b[0my\u001b[0m\u001b[0;34m\u001b[0m\u001b[0;34m\u001b[0m\u001b[0m\n\u001b[1;32m     12\u001b[0m \u001b[0;34m\u001b[0m\u001b[0m\n",
            "\u001b[0;31mAssertionError\u001b[0m: y must not be 0"
          ]
        }
      ]
    },
    {
      "cell_type": "markdown",
      "metadata": {
        "id": "gz56IwsIPP77",
        "colab_type": "text"
      },
      "source": [
        "# Lists"
      ]
    },
    {
      "cell_type": "code",
      "metadata": {
        "id": "HYxszSAIZSbl",
        "colab_type": "code",
        "colab": {}
      },
      "source": [
        "lst = []\n",
        "print(list)"
      ],
      "execution_count": 0,
      "outputs": []
    },
    {
      "cell_type": "code",
      "metadata": {
        "id": "KVw3V3LCZU4V",
        "colab_type": "code",
        "colab": {}
      },
      "source": [
        "lst = [0,1,2,3,4,5,6,7,8,9,10]\n",
        "print(lst)"
      ],
      "execution_count": 0,
      "outputs": []
    },
    {
      "cell_type": "markdown",
      "metadata": {
        "id": "Ahs7iXKMZpNd",
        "colab_type": "text"
      },
      "source": [
        "## Accessing lists"
      ]
    },
    {
      "cell_type": "code",
      "metadata": {
        "id": "Qp7g0YCFZod-",
        "colab_type": "code",
        "colab": {}
      },
      "source": [
        "lst = [0,1,2,3,4,5,6,7,8,9,10]\n",
        "print(lst[1])"
      ],
      "execution_count": 0,
      "outputs": []
    },
    {
      "cell_type": "code",
      "metadata": {
        "id": "qB0UCUXuhovt",
        "colab_type": "code",
        "colab": {}
      },
      "source": [
        "lst = [0,1,2,3,4,5,6,7,8,9,10]\n",
        "print(lst[1:])"
      ],
      "execution_count": 0,
      "outputs": []
    },
    {
      "cell_type": "code",
      "metadata": {
        "id": "4WuVrNSVhrOJ",
        "colab_type": "code",
        "colab": {}
      },
      "source": [
        "lst = [0,1,2,3,4,5,6,7,8,9,10]\n",
        "print(lst[:1])"
      ],
      "execution_count": 0,
      "outputs": []
    },
    {
      "cell_type": "code",
      "metadata": {
        "id": "EG9B5SKkhvyw",
        "colab_type": "code",
        "colab": {}
      },
      "source": [
        "lst = [0,1,2,3,4,5,6,7,8,9,10]\n",
        "print(lst[1:5])"
      ],
      "execution_count": 0,
      "outputs": []
    },
    {
      "cell_type": "code",
      "metadata": {
        "id": "dsYIZvU7hyH4",
        "colab_type": "code",
        "colab": {}
      },
      "source": [
        "lst = [0,1,2,3,4,5,6,7,8,9,10]\n",
        "print(lst[:-2])"
      ],
      "execution_count": 0,
      "outputs": []
    },
    {
      "cell_type": "code",
      "metadata": {
        "id": "S1ulHoZ1ZxT9",
        "colab_type": "code",
        "colab": {}
      },
      "source": [
        "lst = [0,1,2,3,4,5,6,7,8,9,10]\n",
        "import random\n",
        "for i in random.sample(lst, 4):\n",
        "    print(i)"
      ],
      "execution_count": 0,
      "outputs": []
    },
    {
      "cell_type": "markdown",
      "metadata": {
        "id": "veTsrlf5P4FH",
        "colab_type": "text"
      },
      "source": [
        "# Loops"
      ]
    },
    {
      "cell_type": "code",
      "metadata": {
        "id": "4dw-hMp-P-j-",
        "colab_type": "code",
        "colab": {}
      },
      "source": [
        "for i in range(0,10):\n",
        "  print(i)"
      ],
      "execution_count": 0,
      "outputs": []
    },
    {
      "cell_type": "code",
      "metadata": {
        "id": "XsZ_62ySQAoA",
        "colab_type": "code",
        "colab": {}
      },
      "source": [
        "lst = [1,22,13,64,85,6,47,8,49,0]\n",
        "for i in lst:\n",
        "  print(i)"
      ],
      "execution_count": 0,
      "outputs": []
    },
    {
      "cell_type": "code",
      "metadata": {
        "id": "S0tks8qAQB2W",
        "colab_type": "code",
        "colab": {}
      },
      "source": [
        "lst = [1,22,13,64,85,6,47,8,49,0]\n",
        "for i, _ in enumerate(lst):\n",
        "  print(i)"
      ],
      "execution_count": 0,
      "outputs": []
    },
    {
      "cell_type": "code",
      "metadata": {
        "id": "JwGyq1AXQDkw",
        "colab_type": "code",
        "colab": {}
      },
      "source": [
        "lst = [1,22,13,64,85,6,47,8,49,0]\n",
        "for i, x in enumerate(lst):\n",
        "  print(i, x)"
      ],
      "execution_count": 0,
      "outputs": []
    },
    {
      "cell_type": "code",
      "metadata": {
        "id": "ozWdHgzNQEnE",
        "colab_type": "code",
        "colab": {}
      },
      "source": [
        "lst = [\n",
        "       [1, 22, 13, 64,   85,   6, 47, 8, 49, 0],\n",
        "       [2,  3,  4, 12, 1213, 214, 56, 4, 10, 2]\n",
        "      ]\n",
        "for x, ls in enumerate(lst):\n",
        "  for y, _ in enumerate(ls):\n",
        "    print(x, y)"
      ],
      "execution_count": 0,
      "outputs": []
    },
    {
      "cell_type": "code",
      "metadata": {
        "id": "Zdj23jN8QFkR",
        "colab_type": "code",
        "colab": {}
      },
      "source": [
        "lst = [\n",
        "       [1, 22, 13, 64,   85,   6, 47, 8, 49, 0],\n",
        "       [2,  3,  4, 12, 1213, 214, 56, 4, 10, 2]\n",
        "      ]\n",
        "for x, ls in enumerate(lst):\n",
        "  for y, _ in enumerate(ls):\n",
        "    print(lst[x][y])"
      ],
      "execution_count": 0,
      "outputs": []
    },
    {
      "cell_type": "code",
      "metadata": {
        "id": "YpmBMiJmQGdu",
        "colab_type": "code",
        "colab": {}
      },
      "source": [
        "lst = [\n",
        "       [1, 22, 13, 64,   85,   6, 47, 8, 49, 0],\n",
        "       [2,  3,  4, 12, 1213, 214, 56, 4, 10, 2]\n",
        "      ]\n",
        "for x, ls in enumerate(lst):\n",
        "  for y, value in enumerate(ls):\n",
        "    print(x, y, value)"
      ],
      "execution_count": 0,
      "outputs": []
    },
    {
      "cell_type": "markdown",
      "metadata": {
        "id": "WrZDJYrsAcjj",
        "colab_type": "text"
      },
      "source": [
        "# Functions\n"
      ]
    },
    {
      "cell_type": "code",
      "metadata": {
        "id": "w_9_jWviQJh-",
        "colab_type": "code",
        "colab": {}
      },
      "source": [
        "def funcSingleParam(params):\n",
        "  print(params)\n",
        "  \n",
        "funcSingleParam(1)\n",
        "funcSingleParam(\"hallo\")"
      ],
      "execution_count": 0,
      "outputs": []
    },
    {
      "cell_type": "code",
      "metadata": {
        "id": "nbwh2riLQKoG",
        "colab_type": "code",
        "colab": {}
      },
      "source": [
        "def funcSingleParamDefined(params=\"p\"):\n",
        "  print(params)\n",
        "\n",
        "funcSingleParamDefined()\n",
        "funcSingleParamDefined(params=1)"
      ],
      "execution_count": 0,
      "outputs": []
    },
    {
      "cell_type": "code",
      "metadata": {
        "id": "cRldPGJzQXTo",
        "colab_type": "code",
        "colab": {}
      },
      "source": [
        "def funcMultiParams(a,b,c=2,params=\"p\"):\n",
        "  print(a,b,c,params)\n",
        "  \n",
        "funcMultiParams(1,2)\n",
        "funcMultiParams(1,3,params=\"b\")\n",
        "funcMultiParams(1,3,c=\"b\")"
      ],
      "execution_count": 0,
      "outputs": []
    },
    {
      "cell_type": "markdown",
      "metadata": {
        "id": "T5gXiyP0Qq86",
        "colab_type": "text"
      },
      "source": [
        "# Conditions"
      ]
    },
    {
      "cell_type": "code",
      "metadata": {
        "id": "UHdNglfXQvWF",
        "colab_type": "code",
        "colab": {}
      },
      "source": [
        "t = True\n",
        "if t is True:\n",
        "  print(\"do the stuff\")"
      ],
      "execution_count": 0,
      "outputs": []
    },
    {
      "cell_type": "code",
      "metadata": {
        "id": "0VkFfam4Q3z9",
        "colab_type": "code",
        "colab": {}
      },
      "source": [
        "t = True\n",
        "if t:\n",
        "  print(\"do the stuff\")"
      ],
      "execution_count": 0,
      "outputs": []
    },
    {
      "cell_type": "code",
      "metadata": {
        "id": "LflEUniQQ80V",
        "colab_type": "code",
        "colab": {}
      },
      "source": [
        "t = True\n",
        "a = 1\n",
        "if t and a:\n",
        "  print(\"do the stuff\")"
      ],
      "execution_count": 0,
      "outputs": []
    },
    {
      "cell_type": "code",
      "metadata": {
        "id": "tNVJufxpRUGX",
        "colab_type": "code",
        "colab": {}
      },
      "source": [
        "t = True\n",
        "a = \"hallo\"\n",
        "if t and a:\n",
        "  print(\"do the stuff\")"
      ],
      "execution_count": 0,
      "outputs": []
    },
    {
      "cell_type": "code",
      "metadata": {
        "id": "qUE-9NPERDiu",
        "colab_type": "code",
        "colab": {}
      },
      "source": [
        "t = True\n",
        "a = 0\n",
        "if t and a:\n",
        "  print(\"do the stuff\")\n",
        "else:\n",
        "  print(\"do not the stuff\")"
      ],
      "execution_count": 0,
      "outputs": []
    },
    {
      "cell_type": "code",
      "metadata": {
        "id": "GfPlcv8NRXC9",
        "colab_type": "code",
        "colab": {}
      },
      "source": [
        "txt = \"Hey\"\n",
        "if txt is \"Hey\":\n",
        "  print(\"do the stuff\")\n",
        "else:\n",
        "    print(\"do not the stuff\")"
      ],
      "execution_count": 0,
      "outputs": []
    },
    {
      "cell_type": "code",
      "metadata": {
        "id": "yjVm-AuERgIm",
        "colab_type": "code",
        "colab": {}
      },
      "source": [
        "txt = \"Hey\"\n",
        "if txt == \"Hey\":\n",
        "  print(\"do the stuff\")\n",
        "else:\n",
        "    print(\"do not the stuff\")"
      ],
      "execution_count": 0,
      "outputs": []
    }
  ]
}