{
  "nbformat": 4,
  "nbformat_minor": 0,
  "metadata": {
    "colab": {
      "name": "PythonTricks.ipynb",
      "provenance": [],
      "include_colab_link": true
    },
    "kernelspec": {
      "name": "python3",
      "display_name": "Python 3"
    }
  },
  "cells": [
    {
      "cell_type": "markdown",
      "metadata": {
        "id": "view-in-github",
        "colab_type": "text"
      },
      "source": [
        "<a href=\"https://colab.research.google.com/github/JesperHenriksen/PythonCheatSheet/blob/master/PythonTricks.ipynb\" target=\"_parent\"><img src=\"https://colab.research.google.com/assets/colab-badge.svg\" alt=\"Open In Colab\"/></a>"
      ]
    },
    {
      "cell_type": "code",
      "metadata": {
        "id": "Dl-5jAy7GM1M",
        "colab_type": "code",
        "colab": {}
      },
      "source": [
        "#Python Comment"
      ],
      "execution_count": 0,
      "outputs": []
    },
    {
      "cell_type": "code",
      "metadata": {
        "id": "nHVMqMNPGGYe",
        "colab_type": "code",
        "colab": {}
      },
      "source": [
        "\"\"\"\n",
        "Python Multi line comments\n",
        "\"\"\""
      ],
      "execution_count": 0,
      "outputs": []
    },
    {
      "cell_type": "code",
      "metadata": {
        "id": "vF6An4xuGP5k",
        "colab_type": "code",
        "colab": {}
      },
      "source": [
        "#Python comment trick\n",
        "#Put a # infront of the first \"\"\" to switch between the two lines of code\n",
        "\n",
        "\"\"\"\n",
        "print(\"Some code i want to execute sometimes\")\n",
        "\"\"\"\n",
        "print(\"Some other code i want an other times.\")\n",
        "#\"\"\""
      ],
      "execution_count": 0,
      "outputs": []
    },
    {
      "cell_type": "code",
      "metadata": {
        "id": "VM84LEzCGl-U",
        "colab_type": "code",
        "colab": {}
      },
      "source": [
        "\"\"\"\n",
        "Making sure variable has/hasn't a specific value is quite easy in python\n",
        "Let's assume we have a function to divide 2 numbers.\n",
        "Then we know that division must follow this rule: x/y=c , y != 0 \n",
        "How can we implement this in Python? Using assert\n",
        "The first statement in assert must be true\n",
        "\"\"\"\n",
        "\n",
        "def division(x,y):\n",
        "  assert not y == 0, \"y must not be 0\"\n",
        "  return x/y"
      ],
      "execution_count": 0,
      "outputs": []
    }
  ]
}