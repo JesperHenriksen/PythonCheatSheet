{
  "nbformat": 4,
  "nbformat_minor": 0,
  "metadata": {
    "colab": {
      "name": "main.ipynb",
      "provenance": [],
      "collapsed_sections": [],
      "include_colab_link": true
    },
    "kernelspec": {
      "name": "python3",
      "display_name": "Python 3"
    }
  },
  "cells": [
    {
      "cell_type": "markdown",
      "metadata": {
        "id": "view-in-github",
        "colab_type": "text"
      },
      "source": [
        "<a href=\"https://colab.research.google.com/github/JesperHenriksen/PythonCheatSheet/blob/master/lists.ipynb\" target=\"_parent\"><img src=\"https://colab.research.google.com/assets/colab-badge.svg\" alt=\"Open In Colab\"/></a>"
      ]
    },
    {
      "cell_type": "markdown",
      "metadata": {
        "id": "udOS3PARZQfC",
        "colab_type": "text"
      },
      "source": [
        "Creating lists"
      ]
    },
    {
      "cell_type": "code",
      "metadata": {
        "id": "HYxszSAIZSbl",
        "colab_type": "code",
        "colab": {}
      },
      "source": [
        "lst = []\n",
        "print(list)"
      ],
      "execution_count": 0,
      "outputs": []
    },
    {
      "cell_type": "code",
      "metadata": {
        "id": "KVw3V3LCZU4V",
        "colab_type": "code",
        "colab": {}
      },
      "source": [
        "lst = [0,1,2,3,4,5,6,7,8,9,10]\n",
        "print(lst)"
      ],
      "execution_count": 0,
      "outputs": []
    },
    {
      "cell_type": "markdown",
      "metadata": {
        "id": "Ahs7iXKMZpNd",
        "colab_type": "text"
      },
      "source": [
        "Accessing lists"
      ]
    },
    {
      "cell_type": "code",
      "metadata": {
        "id": "Qp7g0YCFZod-",
        "colab_type": "code",
        "colab": {}
      },
      "source": [
        "print(lst[1])"
      ],
      "execution_count": 0,
      "outputs": []
    },
    {
      "cell_type": "code",
      "metadata": {
        "id": "qB0UCUXuhovt",
        "colab_type": "code",
        "colab": {}
      },
      "source": [
        "print(lst[1:])"
      ],
      "execution_count": 0,
      "outputs": []
    },
    {
      "cell_type": "code",
      "metadata": {
        "id": "4WuVrNSVhrOJ",
        "colab_type": "code",
        "colab": {}
      },
      "source": [
        "print(lst[:1])"
      ],
      "execution_count": 0,
      "outputs": []
    },
    {
      "cell_type": "code",
      "metadata": {
        "id": "EG9B5SKkhvyw",
        "colab_type": "code",
        "colab": {}
      },
      "source": [
        "print(lst[1:5])"
      ],
      "execution_count": 0,
      "outputs": []
    },
    {
      "cell_type": "code",
      "metadata": {
        "id": "dsYIZvU7hyH4",
        "colab_type": "code",
        "colab": {}
      },
      "source": [
        "print(lst[:-2])"
      ],
      "execution_count": 0,
      "outputs": []
    },
    {
      "cell_type": "code",
      "metadata": {
        "id": "S1ulHoZ1ZxT9",
        "colab_type": "code",
        "colab": {}
      },
      "source": [
        "import random\n",
        "for i in random.sample(lst, 4):\n",
        "    print(i)"
      ],
      "execution_count": 0,
      "outputs": []
    }
  ]
}